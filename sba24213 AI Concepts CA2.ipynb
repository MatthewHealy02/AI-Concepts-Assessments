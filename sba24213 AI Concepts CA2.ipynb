{
 "cells": [
  {
   "cell_type": "markdown",
   "id": "c1ba3ec3-58d0-4a23-9088-d82d5af7a979",
   "metadata": {},
   "source": [
    "GitHub Commit History: "
   ]
  },
  {
   "cell_type": "markdown",
   "id": "2ebf6865-340d-4b42-8e98-9929feee0ac0",
   "metadata": {},
   "source": [
    "# _package imports_"
   ]
  },
  {
   "cell_type": "markdown",
   "id": "7c29b82b-0365-479b-98ca-2566e40f597f",
   "metadata": {},
   "source": [
    "#### Q1 packages..."
   ]
  },
  {
   "cell_type": "code",
   "execution_count": 14,
   "id": "bd4e2712-1f54-46f8-9ca1-b304a1ee9eae",
   "metadata": {},
   "outputs": [],
   "source": [
    "import toytree as tt\n",
    "import toyplot as tp"
   ]
  },
  {
   "cell_type": "markdown",
   "id": "2e830497-2ea0-445f-a892-2336a0eb00c5",
   "metadata": {},
   "source": [
    "#### Q2 packages..."
   ]
  },
  {
   "cell_type": "code",
   "execution_count": 15,
   "id": "64e888cd-3207-4400-8e88-d2c4c3aa1545",
   "metadata": {},
   "outputs": [
    {
     "ename": "ModuleNotFoundError",
     "evalue": "No module named 'constraint'",
     "output_type": "error",
     "traceback": [
      "\u001b[1;31m---------------------------------------------------------------------------\u001b[0m",
      "\u001b[1;31mModuleNotFoundError\u001b[0m                       Traceback (most recent call last)",
      "Cell \u001b[1;32mIn[15], line 1\u001b[0m\n\u001b[1;32m----> 1\u001b[0m \u001b[38;5;28;01mfrom\u001b[39;00m \u001b[38;5;21;01mconstraint\u001b[39;00m \u001b[38;5;28;01mimport\u001b[39;00m Problem\n",
      "\u001b[1;31mModuleNotFoundError\u001b[0m: No module named 'constraint'"
     ]
    }
   ],
   "source": [
    "from constraint import Problem"
   ]
  },
  {
   "cell_type": "markdown",
   "id": "b37acc59-d64f-44e7-9eeb-98ec7a929608",
   "metadata": {},
   "source": [
    "#### Q3 packages..."
   ]
  },
  {
   "cell_type": "code",
   "execution_count": 13,
   "id": "c923cc9a-3a6b-4b17-8bea-2a953e5eecea",
   "metadata": {},
   "outputs": [
    {
     "name": "stdout",
     "output_type": "stream",
     "text": [
      "pygame 2.6.1 (SDL 2.28.4, Python 3.12.4)\n",
      "Hello from the pygame community. https://www.pygame.org/contribute.html\n"
     ]
    }
   ],
   "source": [
    "import pygame as pg"
   ]
  },
  {
   "cell_type": "markdown",
   "id": "8cd9ef30-e773-4c34-be93-39058a03f14c",
   "metadata": {},
   "source": [
    "# **_QUESTION 1_**\n",
    "\n",
    "_minimax search tree problem_"
   ]
  },
  {
   "cell_type": "markdown",
   "id": "5a4946a5-44f2-4daf-8b3f-cbc32be0f1a9",
   "metadata": {},
   "source": [
    "## **_(a)_**\n",
    "\n",
    "_Determine the min-max values of the root node for the game tree_"
   ]
  },
  {
   "cell_type": "markdown",
   "id": "86cb9758-bf0a-4b6b-8591-db5e16260917",
   "metadata": {},
   "source": [
    "### **_DEFINE A NODE (VERTEX) CLASS AND A DECISION (MOVE) CLASS..._**"
   ]
  },
  {
   "cell_type": "code",
   "execution_count": 1,
   "id": "0da610be-335a-4892-abf6-934196e7945d",
   "metadata": {},
   "outputs": [],
   "source": [
    "# class {Vertex()} is used to initialise nodes\n",
    "# within a minimax search tree;\n",
    "\n",
    "class Vertex():\n",
    "\n",
    "    def __init__(self, val):\n",
    "\n",
    "        # value of the node is set\n",
    "        # with attribute {val};\n",
    "        self.val = val\n",
    "\n",
    "        # attributes {left} and {right}\n",
    "        # contain the values for each \n",
    "        # node following the current;\n",
    "        self.left = None\n",
    "        self.right = None\n",
    "\n",
    "\n",
    "# class {Decide()} is used to enable the algorithm\n",
    "# to make decisions on which paths to pursue;\n",
    "\n",
    "class Decide():\n",
    "\n",
    "    def __init__(self, val, move):\n",
    "\n",
    "        self.val = val\n",
    "        self.move = move\n",
    "\n",
    "    def __str__(self):\n",
    "\n",
    "        return f'>>> {self.move} : {str(self.val)}...'"
   ]
  },
  {
   "cell_type": "markdown",
   "id": "541113be-1ab8-489e-954b-b726c4de7318",
   "metadata": {},
   "source": [
    "### **_INSTANTIATE THE TREE STRUCTURE TO BE SEARCHED..._**\n",
    "\n",
    "- vertices with no branches are assigned to variables with the following formatting: lay(X)_v(X)\n",
    "- vertices with branches are assigned to variables with the following formatting: lay(X)_b(X)"
   ]
  },
  {
   "cell_type": "code",
   "execution_count": 2,
   "id": "ff8cc2fa-2d89-4f87-aef8-2c77d67b01fc",
   "metadata": {},
   "outputs": [],
   "source": [
    "# layer 5;\n",
    "\n",
    "lay5_v1 = Vertex(4)\n",
    "lay5_v2 = Vertex(2)\n",
    "lay5_v3 = Vertex(4)\n",
    "lay5_v4 = Vertex(3)\n",
    "\n",
    "# layer 4;\n",
    "\n",
    "lay4_v1 = Vertex(1)\n",
    "\n",
    "lay4_b1 = Vertex(2)\n",
    "lay4_b1.left = lay5_v1\n",
    "lay4_b1.right = lay5_v2\n",
    "\n",
    "lay4_v2 = Vertex(5)\n",
    "\n",
    "lay4_b2 = Vertex(3)\n",
    "lay4_b2.left = lay5_v3\n",
    "lay4_b2.right = lay5_v4\n",
    "\n",
    "# layer 3;\n",
    "\n",
    "lay3_b1 = Vertex(2)\n",
    "lay3_b1.left = lay4_v1\n",
    "lay3_b1.right = lay4_b1\n",
    "\n",
    "lay3_b2 = Vertex(5)\n",
    "lay3_b2.left = lay4_v2\n",
    "lay3_b2.right = lay4_b2\n",
    "\n",
    "# layer 2;\n",
    "\n",
    "lay2_v1 = Vertex(5)\n",
    "\n",
    "lay2_b1 = Vertex(2)\n",
    "lay2_b1.left = lay3_b1\n",
    "lay2_b1.right = lay3_b2\n",
    "\n",
    "# root;\n",
    "\n",
    "root = Vertex(5)\n",
    "root.left = lay2_v1\n",
    "root.right = lay2_b1"
   ]
  },
  {
   "cell_type": "markdown",
   "id": "20ab79ce-c4e6-408b-83b8-c9f0687243c3",
   "metadata": {},
   "source": [
    "### **_A FUNCTION TO DISPLAY THE UPDATED TREE DIAGRAM..._**"
   ]
  },
  {
   "cell_type": "code",
   "execution_count": 10,
   "id": "5d9cdff8-5dd4-423e-95e8-ce05b2204e51",
   "metadata": {},
   "outputs": [],
   "source": [
    "def PRINT_TREE(vertex,\n",
    "               layer = 0,\n",
    "               prefix = 'ROOT --> '):\n",
    "\n",
    "    if vertex != None:\n",
    "        print('   ' * (layer * 3) + prefix + str(vertex.val))\n",
    "\n",
    "        if vertex.left or vertex.right:\n",
    "            PRINT_TREE(vertex = vertex.left,\n",
    "                       layer = (layer + 1),\n",
    "                       prefix = 'L --> ')\n",
    "            \n",
    "            PRINT_TREE(vertex = vertex.right,\n",
    "                       layer = (layer + 1),\n",
    "                       prefix = 'R --> ')"
   ]
  },
  {
   "cell_type": "markdown",
   "id": "ebacc3d8-7c98-445d-af33-2ca0821aa2de",
   "metadata": {},
   "source": [
    "### **_ANSWER..._**"
   ]
  },
  {
   "cell_type": "code",
   "execution_count": 11,
   "id": "efac0061-96c1-4691-8953-11376106bb57",
   "metadata": {},
   "outputs": [
    {
     "name": "stdout",
     "output_type": "stream",
     "text": [
      "ROOT --> 5\n",
      "         L --> 5\n",
      "         R --> 2\n",
      "                  L --> 2\n",
      "                           L --> 1\n",
      "                           R --> 2\n",
      "                                    L --> 4\n",
      "                                    R --> 2\n",
      "                  R --> 5\n",
      "                           L --> 5\n",
      "                           R --> 3\n",
      "                                    L --> 4\n",
      "                                    R --> 3\n"
     ]
    }
   ],
   "source": [
    "PRINT_TREE(root)"
   ]
  },
  {
   "cell_type": "markdown",
   "id": "2ab24d9b-9617-4fd8-9e39-0a33c0d0822d",
   "metadata": {
    "jp-MarkdownHeadingCollapsed": true
   },
   "source": [
    "## **_(b)_**\n",
    "\n",
    "_the node(s) whose value(s) will not be explored through the alpha-beta method_"
   ]
  },
  {
   "cell_type": "code",
   "execution_count": null,
   "id": "40cd7939-21b8-45e7-9283-682c2ec45412",
   "metadata": {},
   "outputs": [],
   "source": []
  },
  {
   "cell_type": "markdown",
   "id": "afe47c79-94c3-4369-8a5a-5a4b50356a50",
   "metadata": {},
   "source": [
    "## **_(c)_**\n",
    "\n",
    "_the alpha and beta values of the remaining node(s)_"
   ]
  },
  {
   "cell_type": "code",
   "execution_count": null,
   "id": "0d5894a3-d068-4d73-ac2c-7d79dd2b22e5",
   "metadata": {},
   "outputs": [],
   "source": []
  },
  {
   "cell_type": "markdown",
   "id": "841f9523-825b-481c-9fa3-d23017660ef6",
   "metadata": {
    "jp-MarkdownHeadingCollapsed": true
   },
   "source": [
    "# **_QUESTION 2_**\n",
    "\n",
    "_scheduling problem_"
   ]
  },
  {
   "cell_type": "markdown",
   "id": "09ab9fd7-0e47-4d48-bdf6-97770d82d330",
   "metadata": {
    "jp-MarkdownHeadingCollapsed": true
   },
   "source": [
    "## **_(a)_**\n",
    "_different representations of this problem as a CSP_"
   ]
  },
  {
   "cell_type": "code",
   "execution_count": null,
   "id": "147cbe83-93dc-453f-8889-6d94b7e349e2",
   "metadata": {},
   "outputs": [],
   "source": []
  },
  {
   "cell_type": "markdown",
   "id": "9675bbf1-f2ed-4512-b873-c1a605d9b4e4",
   "metadata": {
    "jp-MarkdownHeadingCollapsed": true
   },
   "source": [
    "## **_(b)_**\n",
    "\n",
    "_possible solutions for this scenario_"
   ]
  },
  {
   "cell_type": "code",
   "execution_count": null,
   "id": "d3f6cf46-e2e1-4472-911d-b2b76872040e",
   "metadata": {},
   "outputs": [],
   "source": []
  },
  {
   "cell_type": "markdown",
   "id": "1a401535-918a-46ac-83f7-345b035248c9",
   "metadata": {
    "jp-MarkdownHeadingCollapsed": true
   },
   "source": [
    "## **_(c)_**\n",
    "\n",
    "_precise formulation using constraint satisfaction problem_"
   ]
  },
  {
   "cell_type": "code",
   "execution_count": null,
   "id": "304931bb-e6ae-4ca7-8542-89c97aa2eeae",
   "metadata": {},
   "outputs": [],
   "source": []
  },
  {
   "cell_type": "markdown",
   "id": "e968cbd8-2451-416d-b41d-7387c3cb18ce",
   "metadata": {
    "jp-MarkdownHeadingCollapsed": true
   },
   "source": [
    "# **_QUESTION 3_**\n",
    "\n",
    "_AI game prototype_"
   ]
  },
  {
   "cell_type": "code",
   "execution_count": null,
   "id": "0e9fe6ff-d79d-45a3-9247-fa12bd76d67f",
   "metadata": {},
   "outputs": [],
   "source": []
  }
 ],
 "metadata": {
  "kernelspec": {
   "display_name": "Python 3 (ipykernel)",
   "language": "python",
   "name": "python3"
  },
  "language_info": {
   "codemirror_mode": {
    "name": "ipython",
    "version": 3
   },
   "file_extension": ".py",
   "mimetype": "text/x-python",
   "name": "python",
   "nbconvert_exporter": "python",
   "pygments_lexer": "ipython3",
   "version": "3.12.4"
  }
 },
 "nbformat": 4,
 "nbformat_minor": 5
}
