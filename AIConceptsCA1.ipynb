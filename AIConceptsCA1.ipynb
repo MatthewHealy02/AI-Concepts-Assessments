{
 "cells": [
  {
   "cell_type": "markdown",
   "id": "c1060f70-82d7-4985-9de8-ae8ecf525f73",
   "metadata": {},
   "source": [
    "Package import(s)"
   ]
  },
  {
   "cell_type": "code",
   "execution_count": 1,
   "id": "2884c376-e822-4206-a199-e9b2b5098a4d",
   "metadata": {},
   "outputs": [],
   "source": [
    "from queue import PriorityQueue"
   ]
  },
  {
   "cell_type": "markdown",
   "id": "2569053c-5931-4e61-bc90-88560c867f3f",
   "metadata": {},
   "source": [
    "Recreating the graph provided, as the first part of this question\n",
    "requires the implementation of a BFS, weights between nodes are \n",
    "unneccesary for this task and as such, are ommitted"
   ]
  },
  {
   "cell_type": "code",
   "execution_count": 47,
   "id": "66466a72-26a5-4893-b7ae-24c347ce4d1d",
   "metadata": {},
   "outputs": [],
   "source": [
    "graph_towns = {'Sligo': ['Letterkenny', 'Castlebar', 'Belfast'],\n",
    "               'Letterkenny': [],\n",
    "               'Castlebar': ['Galway'],\n",
    "               'Belfast': ['Dundalk'],\n",
    "               'Galway': ['Limerick', 'Athlone'],\n",
    "               'Dundalk': ['Dublin'],\n",
    "               'Limerick': ['Killarney', 'Tipperary'],\n",
    "               'Athlone': ['Tipperary'],\n",
    "               'Dublin': ['Wexford', 'Carlow'],\n",
    "               'Killarney': ['Cork'],\n",
    "               'Tipperary': ['Waterford'],\n",
    "               'Wexford': ['Waterford'],\n",
    "               'Carlow': ['Waterford'],\n",
    "               'Waterford': ['Cork'],\n",
    "               'Cork': []\n",
    "}"
   ]
  },
  {
   "cell_type": "markdown",
   "id": "eef704fe-d965-4e21-a651-02844e648da1",
   "metadata": {},
   "source": [
    "Pathfinding with a Breadth First Search (BFS)"
   ]
  },
  {
   "cell_type": "code",
   "execution_count": 48,
   "id": "7da5f701-53da-412c-b8a3-238212138ac6",
   "metadata": {},
   "outputs": [
    {
     "name": "stdout",
     "output_type": "stream",
     "text": [
      "the path found between Sligo and Tipperary by the BFS algorithm is ['Sligo', 'Castlebar', 'Galway', 'Limerick', 'Tipperary']\n"
     ]
    }
   ],
   "source": [
    "# function {BFS()} is defined, accepting a graph, and a start and end point within said graph\n",
    "# as parameters;\n",
    "\n",
    "def BFS(graph, start, end):\n",
    "\n",
    "    # create a list to keep record of visited nodes;\n",
    "    \n",
    "    visited = []\n",
    "\n",
    "    # create a dict to store the parent nodes of the path taken by the algorithm;\n",
    "    \n",
    "    path_dict = {}\n",
    "\n",
    "    # create a queue;\n",
    "    \n",
    "    q = []\n",
    "\n",
    "    # the first node in the sequence is appended to both lists {visited[]} and {q[]};\n",
    "    \n",
    "    visited.append(start)\n",
    "    q.append(start)\n",
    "\n",
    "    # a while loop is used to visit each node,\n",
    "    # terminating once the queue is emptied (i.e. deemed 'False');\n",
    "    \n",
    "    while q:\n",
    "\n",
    "        # the current iteration is popped out of the queue;\n",
    "        \n",
    "        current_state = q.pop(0)\n",
    "\n",
    "        # if the current iteration is our target {'Tipperary'};\n",
    "        \n",
    "        if current_state == end:\n",
    "\n",
    "            # the list {path[]} is created, which will later be used\n",
    "            # to display the path taken to the target;\n",
    "            \n",
    "            path = []\n",
    "\n",
    "            # a nested while loop then iterates backwards through the path taken,\n",
    "            # using the dict {path_dict{}} to inform on the path,\n",
    "            # terminating once it returns to the start node;\n",
    "            \n",
    "            while current_state != start:\n",
    "\n",
    "                # the current iteration is appended to the list {path[]};\n",
    "                \n",
    "                path.append(current_state)\n",
    "\n",
    "                # the loop then moves backwards towards the start by replacing the value of\n",
    "                # the current iteration to the node that precedes it;\n",
    "                \n",
    "                current_state = path_dict[current_state]\n",
    "\n",
    "            # the start node is then also appended to the list {path[]}\n",
    "            # to complete the path history;\n",
    "            \n",
    "            path.append(start)\n",
    "\n",
    "            # the list {path[]} is then reversed as the path history was \n",
    "            # appended in reverse order;\n",
    "            \n",
    "            path = path[::-1]\n",
    "\n",
    "            # the path found by the BFS algorithm is printed out to the script at this point;\n",
    "            \n",
    "            print(f'the path found between {start} and {end} by the BFS algorithm is {path}')\n",
    "\n",
    "        # this for loop executes while variable {current_state} != our target {'Tipperary'},\n",
    "        # each adjacent node to the current_state node is evaluated;\n",
    "        \n",
    "        for adjacent_node in graph[current_state]:\n",
    "\n",
    "            # if we have not already visited this node...\n",
    "            \n",
    "            if adjacent_node not in visited:\n",
    "\n",
    "\n",
    "                # ...it will be marked as visited...\n",
    "                \n",
    "                visited.append(adjacent_node)\n",
    "\n",
    "                # ...this stage will be recorded in\n",
    "                # the dict {path_dict{}}...\n",
    "                \n",
    "                path_dict[adjacent_node] = current_state\n",
    "\n",
    "                # ...the current node adjacent to node {current_state} will\n",
    "                # then be added to the queue and the search will continue\n",
    "                # from this point onwards;\n",
    "                \n",
    "                q.append(adjacent_node)\n",
    "\n",
    "# execution:\n",
    "\n",
    "BFS(graph_towns, 'Sligo', 'Tipperary')"
   ]
  },
  {
   "cell_type": "markdown",
   "id": "5d5afb78-7160-48b3-b5b6-03ea54440f58",
   "metadata": {},
   "source": [
    "Recreating the weighted graph provided within python using a dict for Dijkstra's algorithm"
   ]
  },
  {
   "cell_type": "code",
   "execution_count": 49,
   "id": "658eec6b-d09a-4626-9ce9-75e7c922a120",
   "metadata": {},
   "outputs": [],
   "source": [
    "towns_graph = {\n",
    "    'Letterkenny': {'Sligo': 133},\n",
    "    'Sligo': {'Letterkenny': 133, 'Castlebar': 67, 'Belfast': 214},\n",
    "    'Belfast': {'Sligo': 214, 'Dundalk': 83},\n",
    "    'Castlebar': {'Sligo': 67, 'Galway': 77},\n",
    "    'Dundalk': {'Belfast': 83, 'Dublin': 81},\n",
    "    'Galway': {'Castlebar': 77, 'Athlone': 85, 'Limerick': 112},\n",
    "    'Athlone': {'Galway': 85, 'Tipperary': 126, 'Dublin': 124},\n",
    "    'Dublin': {'Dundalk': 81, 'Athlone': 124, 'Carlow': 90, 'Wexford': 141},\n",
    "    'Limerick': {'Galway': 112, 'Killarney': 110, 'Tipperary': 39},\n",
    "    'Carlow': {'Dublin': 90, 'Waterford': 80},\n",
    "    'Killarney': {'Limerick': 110, 'Cork': 88},\n",
    "    'Tipperary': {'Limerick': 39, 'Athlone': 126, 'Waterford': 89},\n",
    "    'Waterford': {'Cork': 121, 'Tipperary': 89, 'Carlow': 80, 'Wexford': 59},\n",
    "    'Wexford': {'Waterford': 59, 'Dublin': 141},\n",
    "    'Cork': {'Killarney': 88, 'Waterford': 121}\n",
    "}"
   ]
  },
  {
   "cell_type": "markdown",
   "id": "49035629-b4e4-4233-819b-49609226d478",
   "metadata": {},
   "source": [
    "Pathfinding with Dijkstra's Algorithm"
   ]
  },
  {
   "cell_type": "code",
   "execution_count": 50,
   "id": "e08c1fb2-0bf8-4835-a114-89ee9e7eedd1",
   "metadata": {},
   "outputs": [],
   "source": [
    "# functions"
   ]
  },
  {
   "cell_type": "code",
   "execution_count": 51,
   "id": "fea68704-c049-4e36-8391-93747c13f42b",
   "metadata": {},
   "outputs": [],
   "source": [
    "def DIJKSTRA(graph, start):\n",
    "\n",
    "    # distances between the source and each node will be stored in dict {distances}, where source == 0;\n",
    "    \n",
    "    distances = {node: float('inf') for node in graph}\n",
    "    distances[start] = 0\n",
    "\n",
    "    # previous node to the current iteration will be stored within dict {previous};\n",
    "    \n",
    "    previous = {node: None for node in graph}\n",
    "\n",
    "    pq = PriorityQueue()\n",
    "\n",
    "    # the start point or (source) is put at the top of the queue;\n",
    "    \n",
    "    pq.put((0, start))\n",
    "\n",
    "    # while there are elements within the priority queue...\n",
    "    \n",
    "    while not pq.empty():\n",
    "\n",
    "        # ...the dijkstra algorithm will visit each node from Tipperary,\n",
    "        # returning and removing the current target node and its respective weight from the chain;\n",
    "        \n",
    "        current_distance, current_node = pq.get()\n",
    "\n",
    "        # iterations wherein the current distance is greater than the current stored distance between two given nodes\n",
    "        # are skipped;\n",
    "        \n",
    "        if current_distance > distances[current_node]:\n",
    "            continue\n",
    "\n",
    "        # as are iterations wherein the current node is not present within the weighted graph;\n",
    "        \n",
    "        if current_node not in graph:\n",
    "            continue\n",
    "        \n",
    "        for neighbour, weight in graph[current_node].items():\n",
    "            distance = current_distance + weight\n",
    "\n",
    "            # if the current iteration reveals a shorter distance between nodes than what has previously been stored,\n",
    "            # the previously stored value is then replaced by the current iteration;\n",
    "            \n",
    "            if distance < distances[neighbour]:\n",
    "                distances[neighbour] = distance\n",
    "                previous[neighbour] = current_node\n",
    "                pq.put((distance, neighbour))\n",
    "\n",
    "    # the dictionaries containing the shortest distances between the source node and every other node\n",
    "    # within the graph, along with their respective paths taken, are output from the function {dijkstra()};\n",
    "    \n",
    "    return distances, previous\n",
    "\n",
    "# a function to return the path taken towards a given destination is defined,\n",
    "# which accepts the dictionary containing path history between nodes and a target\n",
    "# \"destination\" variable as input;\n",
    "\n",
    "def RETURN_PATH(previous, destination):\n",
    "\n",
    "    # an empty list {path[]} is defined;\n",
    "    \n",
    "    path = []\n",
    "\n",
    "    # a while loop backtracks from the target destination variable to the\n",
    "    # source node while appending each visited node to the list {path[]};\n",
    "    \n",
    "    while destination != None:\n",
    "        \n",
    "        path.append(destination)\n",
    "        destination = previous[destination]\n",
    "\n",
    "    # the list is then reversed and returned, this is done because \n",
    "    # the visited nodes were appended from end --> start;\n",
    "    \n",
    "    return path[::-1]"
   ]
  },
  {
   "cell_type": "code",
   "execution_count": 52,
   "id": "09bff366-2016-4922-9434-862fafdd50bf",
   "metadata": {},
   "outputs": [],
   "source": [
    "# distance from Tipperary key / value pairs and their respective path histories are output \n",
    "# from {dijkstra()} function and stored in variables {distance} and {previous}\n",
    "\n",
    "distance, previous = DIJKSTRA(towns_graph, 'Tipperary')\n",
    "\n",
    "# the path from Tipperary to Sligo is then output from {return_path()} function and stored within variable {path}\n",
    "\n",
    "path = RETURN_PATH(previous, 'Sligo')"
   ]
  },
  {
   "cell_type": "code",
   "execution_count": 53,
   "id": "e6d4c44b-1cb0-4f2a-b9d0-58fc94551738",
   "metadata": {},
   "outputs": [
    {
     "name": "stdout",
     "output_type": "stream",
     "text": [
      "The shortest distance between Tipperary and Sligo is 295km,\n",
      "following the path ['Tipperary', 'Limerick', 'Galway', 'Castlebar', 'Sligo']\n"
     ]
    }
   ],
   "source": [
    "# answer is printed out to the script in the form of a multiline \"f-string\" for conciseness \n",
    "\n",
    "ans = f'''The shortest distance between Tipperary and Sligo is {distance['Sligo']}km,\n",
    "following the path {path}'''\n",
    "\n",
    "print(ans)"
   ]
  },
  {
   "cell_type": "markdown",
   "id": "82c25570-a5de-4183-8fc6-6e63b947895b",
   "metadata": {},
   "source": [
    "Recreating the weighted graph provided within python using a dict"
   ]
  },
  {
   "cell_type": "code",
   "execution_count": 30,
   "id": "695ccc84-49d4-47b5-b619-c1b0712c4c77",
   "metadata": {},
   "outputs": [],
   "source": [
    "towns_graph = {\n",
    "    'Letterkenny': {'E': {'Sligo': 133}, 'H': 184},\n",
    "    'Sligo': {'E': {'Letterkenny': 133, 'Castlebar': 67, 'Belfast': 214}, 'H': 161},\n",
    "    'Belfast': {'E': {'Sligo': 214, 'Dundalk': 83}, 'H': 230},\n",
    "    'Castlebar': {'E': {'Sligo': 67, 'Galway': 77}, 'H': 143},\n",
    "    'Dundalk': {'E': {'Belfast': 83, 'Dublin': 81}, 'H': 115},\n",
    "    'Galway': {'E': {'Castlebar': 77, 'Athlone': 85, 'Limerick': 112}, 'H': 81},\n",
    "    'Athlone': {'E': {'Galway': 85, 'Tipperary': 126, 'Dublin': 124}, 'H': 90},\n",
    "    'Dublin': {'E': {'Dundalk': 81, 'Athlone': 124, 'Carlow': 90, 'Wexford': 141}, 'H': 132},\n",
    "    'Limerick': {'E': {'Galway': 112, 'Killarney': 110, 'Tipperary': 39}, 'H': 24},\n",
    "    'Carlow': {'E': {'Dublin': 90, 'Waterford': 80}, 'H': 66},\n",
    "    'Killarney': {'E': {'Limerick': 110, 'Cork': 88}, 'H': 57},\n",
    "    'Tipperary': {'E': {'Limerick': 39, 'Athlone': 126, 'Waterford': 89}, 'H': 0},\n",
    "    'Waterford': {'E': {'Cork': 121, 'Tipperary': 89, 'Carlow': 80, 'Wexford': 59}, 'H': 33},\n",
    "    'Wexford': {'E': {'Waterford': 59, 'Dublin': 141}, 'H': 85},\n",
    "    'Cork': {'E': {'Killarney': 88, 'Waterford': 121}, 'H': 55}\n",
    "}"
   ]
  },
  {
   "cell_type": "markdown",
   "id": "854e91d3-83c7-440a-aaef-e29717e88bcd",
   "metadata": {},
   "source": [
    "Pathfinding with A* Algorithm"
   ]
  },
  {
   "cell_type": "code",
   "execution_count": 31,
   "id": "aed499f5-6a29-49d6-b8d7-ce782911af18",
   "metadata": {},
   "outputs": [],
   "source": [
    "# functions"
   ]
  },
  {
   "cell_type": "code",
   "execution_count": 32,
   "id": "7bba6271-fa6c-4214-bd39-3bfdbc3c47a0",
   "metadata": {},
   "outputs": [],
   "source": [
    "from queue import PriorityQueue\n",
    "\n",
    "def astar(graph, start_node, end_node):\n",
    "\n",
    "    # Priority Queue is created and stored within variable {pq};\n",
    "    \n",
    "    pq = PriorityQueue()\n",
    "\n",
    "    # Closed list {visited[]} is defined;\n",
    "    \n",
    "    visited = []\n",
    "\n",
    "    \n",
    "    \n",
    "    pq.put((graph[start_node][\"H\"], start_node))\n",
    "    \n",
    "    while not pq.empty():\n",
    "        \n",
    "        current_distance, current_node = pq.get()\n",
    "        \n",
    "        visited.append(current_node)\n",
    "        \n",
    "        if current_node == end_node:\n",
    "            \n",
    "            return visited\n",
    "            \n",
    "        for node in graph[current_node]['E']:\n",
    "            \n",
    "            g = graph[current_node]['E'][node]\n",
    "            h = graph[node][\"H\"]\n",
    "            \n",
    "            if node not in visited:\n",
    "\n",
    "                \n",
    "                match = list(filter(lambda x: x[1] == node, pq.queue))\n",
    "                \n",
    "                if match:\n",
    "                    \n",
    "                    pq.queue.remove(match[0])\n",
    "                    \n",
    "                pq.put((g + h, node))\n",
    "                \n",
    "    return []"
   ]
  },
  {
   "cell_type": "code",
   "execution_count": 33,
   "id": "947fef52-b272-49b3-9635-e2c7e690aa16",
   "metadata": {},
   "outputs": [
    {
     "data": {
      "text/plain": [
       "['Tipperary',\n",
       " 'Limerick',\n",
       " 'Waterford',\n",
       " 'Wexford',\n",
       " 'Carlow',\n",
       " 'Killarney',\n",
       " 'Cork',\n",
       " 'Galway',\n",
       " 'Athlone',\n",
       " 'Castlebar',\n",
       " 'Sligo']"
      ]
     },
     "execution_count": 33,
     "metadata": {},
     "output_type": "execute_result"
    }
   ],
   "source": [
    "astar_path = astar(towns_graph, 'Tipperary', 'Sligo')\n",
    "astar_path"
   ]
  },
  {
   "cell_type": "code",
   "execution_count": null,
   "id": "c0613b51-4c4f-426f-b45d-75e757dd1ba2",
   "metadata": {},
   "outputs": [],
   "source": []
  }
 ],
 "metadata": {
  "kernelspec": {
   "display_name": "Python 3 (ipykernel)",
   "language": "python",
   "name": "python3"
  },
  "language_info": {
   "codemirror_mode": {
    "name": "ipython",
    "version": 3
   },
   "file_extension": ".py",
   "mimetype": "text/x-python",
   "name": "python",
   "nbconvert_exporter": "python",
   "pygments_lexer": "ipython3",
   "version": "3.12.4"
  }
 },
 "nbformat": 4,
 "nbformat_minor": 5
}
