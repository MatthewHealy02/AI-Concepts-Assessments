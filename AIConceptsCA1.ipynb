{
 "cells": [
  {
   "cell_type": "markdown",
   "id": "c1060f70-82d7-4985-9de8-ae8ecf525f73",
   "metadata": {},
   "source": [
    "Package import(s)"
   ]
  },
  {
   "cell_type": "code",
   "execution_count": 1,
   "id": "2884c376-e822-4206-a199-e9b2b5098a4d",
   "metadata": {},
   "outputs": [],
   "source": [
    "from queue import PriorityQueue"
   ]
  },
  {
   "cell_type": "markdown",
   "id": "5d5afb78-7160-48b3-b5b6-03ea54440f58",
   "metadata": {},
   "source": [
    "Recreating the weighted graph provided within python using a dict"
   ]
  },
  {
   "cell_type": "code",
   "execution_count": 3,
   "id": "658eec6b-d09a-4626-9ce9-75e7c922a120",
   "metadata": {},
   "outputs": [],
   "source": [
    "towns_graph = {\n",
    "    'Letterkenny': {'Sligo': 133},\n",
    "    'Sligo': {'Letterkenny': 133, 'Castlebar': 67, 'Belfast': 214},\n",
    "    'Belfast': {'Sligo': 214, 'Dundalk': 83},\n",
    "    'Castlebar': {'Sligo': 67, 'Galway': 77},\n",
    "    'Dundalk': {'Belfast': 83, 'Dublin': 81},\n",
    "    'Galway': {'Castlebar': 77, 'Athlone': 85, 'Limerick': 112},\n",
    "    'Athlone': {'Galway': 85, 'Tipperary': 126, 'Dublin': 124},\n",
    "    'Dublin': {'Dundalk': 81, 'Athlone': 124, 'Carlow': 90, 'Wexford': 141},\n",
    "    'Limerick': {'Galway': 112, 'Killarney': 110, 'Tipperary': 39},\n",
    "    'Carlow': {'Dublin': 90, 'Waterford': 80},\n",
    "    'Killarney': {'Limerick': 110, 'Cork': 88},\n",
    "    'Tipperary': {'Limerick': 39, 'Athlone': 126, 'Waterford': 89},\n",
    "    'Waterford': {'Cork': 121, 'Tipperary': 89, 'Carlow': 80, 'Wexford': 59},\n",
    "    'Wexford': {'Waterford': 59, 'Dublin': 141},\n",
    "    'Cork': {'Killarney': 88, 'Waterford': 121}\n",
    "}"
   ]
  },
  {
   "cell_type": "markdown",
   "id": "49035629-b4e4-4233-819b-49609226d478",
   "metadata": {},
   "source": [
    "Pathfinding with Dijkstra's Algorithm"
   ]
  },
  {
   "cell_type": "code",
   "execution_count": null,
   "id": "e08c1fb2-0bf8-4835-a114-89ee9e7eedd1",
   "metadata": {},
   "outputs": [],
   "source": [
    "# functions"
   ]
  },
  {
   "cell_type": "code",
   "execution_count": 2,
   "id": "fea68704-c049-4e36-8391-93747c13f42b",
   "metadata": {},
   "outputs": [],
   "source": [
    "def dijkstra(graph, source):\n",
    "\n",
    "    distances = {node: float('inf') for node in graph}\n",
    "    distances[source] = 0\n",
    "\n",
    "    previous = {node: None for node in graph}\n",
    "    \n",
    "    pq = PriorityQueue()\n",
    "    pq.put((0, source))\n",
    "\n",
    "    visited = set()\n",
    "    \n",
    "    while not pq.empty():\n",
    "        \n",
    "        current_distance, current_node = pq.get()\n",
    "        \n",
    "        if current_distance > distances[current_node]:\n",
    "            continue\n",
    "            \n",
    "        if current_node not in graph:\n",
    "            continue\n",
    "        \n",
    "        for neighbour, weight in graph[current_node].items():\n",
    "            distance = current_distance + weight\n",
    "            \n",
    "            if distance < distances[neighbour]:\n",
    "                distances[neighbour] = distance\n",
    "                previous[neighbour] = current_node\n",
    "                pq.put((distance, neighbour))\n",
    "\n",
    "        visited.add(current_node)\n",
    "                \n",
    "    return distances, previous\n",
    "\n",
    "def return_path(previous, destination):\n",
    "\n",
    "    path = []\n",
    "    \n",
    "    while destination != None:\n",
    "        \n",
    "        path.append(destination)\n",
    "        destination = previous[destination]\n",
    "        \n",
    "    return path[::-1]"
   ]
  },
  {
   "cell_type": "code",
   "execution_count": 5,
   "id": "09bff366-2016-4922-9434-862fafdd50bf",
   "metadata": {},
   "outputs": [],
   "source": [
    "# distance from Tipperary key / value pairs and their respective path histories are output \n",
    "# from {dijkstra()} function and stored in variables {distance} and {previous}\n",
    "\n",
    "distance, previous = dijkstra(towns_graph, 'Tipperary')\n",
    "\n",
    "# the path from Tipperary to Sligo is then output from {return_path()} function and stored within variable {path}\n",
    "\n",
    "path = return_path(previous, 'Sligo')"
   ]
  },
  {
   "cell_type": "code",
   "execution_count": 6,
   "id": "e6d4c44b-1cb0-4f2a-b9d0-58fc94551738",
   "metadata": {},
   "outputs": [
    {
     "name": "stdout",
     "output_type": "stream",
     "text": [
      "The shortest distance between Tipperary and Sligo is 295km,\n",
      "following the path ['Tipperary', 'Limerick', 'Galway', 'Castlebar', 'Sligo']\n"
     ]
    }
   ],
   "source": [
    "# answer is printed out to the script in the form of a multiline \"f-string\" for conciseness \n",
    "\n",
    "ans = f'''The shortest distance between Tipperary and Sligo is {distance['Sligo']}km,\n",
    "following the path {path}'''\n",
    "\n",
    "print(ans)"
   ]
  }
 ],
 "metadata": {
  "kernelspec": {
   "display_name": "Python 3 (ipykernel)",
   "language": "python",
   "name": "python3"
  },
  "language_info": {
   "codemirror_mode": {
    "name": "ipython",
    "version": 3
   },
   "file_extension": ".py",
   "mimetype": "text/x-python",
   "name": "python",
   "nbconvert_exporter": "python",
   "pygments_lexer": "ipython3",
   "version": "3.12.4"
  }
 },
 "nbformat": 4,
 "nbformat_minor": 5
}
